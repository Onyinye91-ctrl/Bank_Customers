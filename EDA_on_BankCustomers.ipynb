{
 "cells": [
  {
   "cell_type": "markdown",
   "id": "19230f21",
   "metadata": {},
   "source": [
    "# Exploratory Data Analysis (EDA)\n",
    "For this part of EDA i will be using a dataset called UK bank Customers i got this dataset form Kaggle, here is the link https://www.kaggle.com/ukveteran/uk-bank-customers\n",
    "\n",
    "This Bank doesn't have a name but i will like to call it Famous Bank. I will be running analysis using this data, will like to explore in bits by bits using `python` and some of python libraries such as `pandas`, `seaborn` and `matplotlib`.\n",
    "\n",
    "What is my aim you may ask? Well i just want to get my hands dirty, practice what i have been learning for a while and improve my skills.\n",
    "The theme of this article is `Saving Habits of Famous Bank Customers`. \n",
    "\n",
    "Let me tell you a little about this dataset\n",
    "\n",
    "This data has `9` Columns and `4014` rows. Well the data has no missing values.\n",
    "\n",
    "Let's Go...."
   ]
  },
  {
   "cell_type": "code",
   "execution_count": 1,
   "id": "5106c589",
   "metadata": {},
   "outputs": [],
   "source": [
    "#import Libraries\n",
    "import pandas as pd\n",
    "import numpy as np\n",
    "import matplotlib.pyplot as plt\n",
    "import seaborn as sns\n",
    "sns.set_theme(style=\"whitegrid\")\n",
    "pd.set_option(\"display.max_rows\", None)\n",
    "%matplotlib inline"
   ]
  },
  {
   "cell_type": "code",
   "execution_count": 2,
   "id": "69287907",
   "metadata": {},
   "outputs": [],
   "source": [
    "# bring in the data\n",
    "bank = pd.read_csv(\"P6-UK-Bank-Customers.csv\")"
   ]
  },
  {
   "cell_type": "code",
   "execution_count": 3,
   "id": "d1408922",
   "metadata": {},
   "outputs": [
    {
     "data": {
      "text/html": [
       "<div>\n",
       "<style scoped>\n",
       "    .dataframe tbody tr th:only-of-type {\n",
       "        vertical-align: middle;\n",
       "    }\n",
       "\n",
       "    .dataframe tbody tr th {\n",
       "        vertical-align: top;\n",
       "    }\n",
       "\n",
       "    .dataframe thead th {\n",
       "        text-align: right;\n",
       "    }\n",
       "</style>\n",
       "<table border=\"1\" class=\"dataframe\">\n",
       "  <thead>\n",
       "    <tr style=\"text-align: right;\">\n",
       "      <th></th>\n",
       "      <th>Customer ID</th>\n",
       "      <th>Name</th>\n",
       "      <th>Surname</th>\n",
       "      <th>Gender</th>\n",
       "      <th>Age</th>\n",
       "      <th>Region</th>\n",
       "      <th>Job Classification</th>\n",
       "      <th>Date Joined</th>\n",
       "      <th>Balance</th>\n",
       "    </tr>\n",
       "  </thead>\n",
       "  <tbody>\n",
       "    <tr>\n",
       "      <th>0</th>\n",
       "      <td>100000001</td>\n",
       "      <td>Simon</td>\n",
       "      <td>Walsh</td>\n",
       "      <td>Male</td>\n",
       "      <td>21</td>\n",
       "      <td>England</td>\n",
       "      <td>White Collar</td>\n",
       "      <td>05.Jan.15</td>\n",
       "      <td>113810.15</td>\n",
       "    </tr>\n",
       "    <tr>\n",
       "      <th>1</th>\n",
       "      <td>400000002</td>\n",
       "      <td>Jasmine</td>\n",
       "      <td>Miller</td>\n",
       "      <td>Female</td>\n",
       "      <td>34</td>\n",
       "      <td>Northern Ireland</td>\n",
       "      <td>Blue Collar</td>\n",
       "      <td>06.Jan.15</td>\n",
       "      <td>36919.73</td>\n",
       "    </tr>\n",
       "    <tr>\n",
       "      <th>2</th>\n",
       "      <td>100000003</td>\n",
       "      <td>Liam</td>\n",
       "      <td>Brown</td>\n",
       "      <td>Male</td>\n",
       "      <td>46</td>\n",
       "      <td>England</td>\n",
       "      <td>White Collar</td>\n",
       "      <td>07.Jan.15</td>\n",
       "      <td>101536.83</td>\n",
       "    </tr>\n",
       "    <tr>\n",
       "      <th>3</th>\n",
       "      <td>300000004</td>\n",
       "      <td>Trevor</td>\n",
       "      <td>Parr</td>\n",
       "      <td>Male</td>\n",
       "      <td>32</td>\n",
       "      <td>Wales</td>\n",
       "      <td>White Collar</td>\n",
       "      <td>08.Jan.15</td>\n",
       "      <td>1421.52</td>\n",
       "    </tr>\n",
       "    <tr>\n",
       "      <th>4</th>\n",
       "      <td>100000005</td>\n",
       "      <td>Deirdre</td>\n",
       "      <td>Pullman</td>\n",
       "      <td>Female</td>\n",
       "      <td>38</td>\n",
       "      <td>England</td>\n",
       "      <td>Blue Collar</td>\n",
       "      <td>09.Jan.15</td>\n",
       "      <td>35639.79</td>\n",
       "    </tr>\n",
       "  </tbody>\n",
       "</table>\n",
       "</div>"
      ],
      "text/plain": [
       "   Customer ID     Name  Surname  Gender  Age            Region  \\\n",
       "0    100000001    Simon    Walsh    Male   21           England   \n",
       "1    400000002  Jasmine   Miller  Female   34  Northern Ireland   \n",
       "2    100000003     Liam    Brown    Male   46           England   \n",
       "3    300000004   Trevor     Parr    Male   32             Wales   \n",
       "4    100000005  Deirdre  Pullman  Female   38           England   \n",
       "\n",
       "  Job Classification Date Joined    Balance  \n",
       "0       White Collar   05.Jan.15  113810.15  \n",
       "1        Blue Collar   06.Jan.15   36919.73  \n",
       "2       White Collar   07.Jan.15  101536.83  \n",
       "3       White Collar   08.Jan.15    1421.52  \n",
       "4        Blue Collar   09.Jan.15   35639.79  "
      ]
     },
     "execution_count": 3,
     "metadata": {},
     "output_type": "execute_result"
    }
   ],
   "source": [
    "bank.head()"
   ]
  },
  {
   "cell_type": "code",
   "execution_count": 4,
   "id": "4afdeb98",
   "metadata": {},
   "outputs": [
    {
     "data": {
      "text/plain": [
       "(4014, 9)"
      ]
     },
     "execution_count": 4,
     "metadata": {},
     "output_type": "execute_result"
    }
   ],
   "source": [
    "bank.shape"
   ]
  },
  {
   "cell_type": "code",
   "execution_count": 5,
   "id": "6f5ae3a2",
   "metadata": {},
   "outputs": [
    {
     "data": {
      "text/plain": [
       "64"
      ]
     },
     "execution_count": 5,
     "metadata": {},
     "output_type": "execute_result"
    }
   ],
   "source": [
    "bank['Age'].max()"
   ]
  },
  {
   "cell_type": "code",
   "execution_count": 6,
   "id": "a48d56a3",
   "metadata": {},
   "outputs": [
    {
     "data": {
      "text/plain": [
       "15"
      ]
     },
     "execution_count": 6,
     "metadata": {},
     "output_type": "execute_result"
    }
   ],
   "source": [
    "bank['Age'].min()"
   ]
  },
  {
   "cell_type": "code",
   "execution_count": 7,
   "id": "d77bb527",
   "metadata": {
    "scrolled": false
   },
   "outputs": [
    {
     "data": {
      "text/plain": [
       "Customer ID           0\n",
       "Name                  0\n",
       "Surname               0\n",
       "Gender                0\n",
       "Age                   0\n",
       "Region                0\n",
       "Job Classification    0\n",
       "Date Joined           0\n",
       "Balance               0\n",
       "dtype: int64"
      ]
     },
     "execution_count": 7,
     "metadata": {},
     "output_type": "execute_result"
    }
   ],
   "source": [
    "bank.isnull().sum()"
   ]
  },
  {
   "cell_type": "markdown",
   "id": "9160a391",
   "metadata": {},
   "source": [
    "### Data Preprocessing"
   ]
  },
  {
   "cell_type": "code",
   "execution_count": 8,
   "id": "cce6128f",
   "metadata": {},
   "outputs": [],
   "source": [
    "# Let's group the age values\n",
    "\n",
    "bins = [15, 20, 25, 30, 35, 40, 45, 50, 55, 60, 65, 70]\n",
    "labels = ['15-19','20-24', '25-29','30-34','35-39', '40-44', '45-49','50-54','55-59','60-64','65-69']\n",
    "bank['Age_range'] = pd.cut(bank['Age'], bins, labels = labels,include_lowest = True)"
   ]
  },
  {
   "cell_type": "code",
   "execution_count": 9,
   "id": "5ed193f8",
   "metadata": {},
   "outputs": [],
   "source": [
    "bank =bank.drop('Age', axis = 1)"
   ]
  },
  {
   "cell_type": "code",
   "execution_count": 10,
   "id": "c585865f",
   "metadata": {},
   "outputs": [
    {
     "data": {
      "text/html": [
       "<div>\n",
       "<style scoped>\n",
       "    .dataframe tbody tr th:only-of-type {\n",
       "        vertical-align: middle;\n",
       "    }\n",
       "\n",
       "    .dataframe tbody tr th {\n",
       "        vertical-align: top;\n",
       "    }\n",
       "\n",
       "    .dataframe thead th {\n",
       "        text-align: right;\n",
       "    }\n",
       "</style>\n",
       "<table border=\"1\" class=\"dataframe\">\n",
       "  <thead>\n",
       "    <tr style=\"text-align: right;\">\n",
       "      <th></th>\n",
       "      <th>Customer ID</th>\n",
       "      <th>Name</th>\n",
       "      <th>Surname</th>\n",
       "      <th>Gender</th>\n",
       "      <th>Region</th>\n",
       "      <th>Job Classification</th>\n",
       "      <th>Date Joined</th>\n",
       "      <th>Balance</th>\n",
       "      <th>Age_range</th>\n",
       "    </tr>\n",
       "  </thead>\n",
       "  <tbody>\n",
       "    <tr>\n",
       "      <th>0</th>\n",
       "      <td>100000001</td>\n",
       "      <td>Simon</td>\n",
       "      <td>Walsh</td>\n",
       "      <td>Male</td>\n",
       "      <td>England</td>\n",
       "      <td>White Collar</td>\n",
       "      <td>05.Jan.15</td>\n",
       "      <td>113810.15</td>\n",
       "      <td>20-24</td>\n",
       "    </tr>\n",
       "    <tr>\n",
       "      <th>1</th>\n",
       "      <td>400000002</td>\n",
       "      <td>Jasmine</td>\n",
       "      <td>Miller</td>\n",
       "      <td>Female</td>\n",
       "      <td>Northern Ireland</td>\n",
       "      <td>Blue Collar</td>\n",
       "      <td>06.Jan.15</td>\n",
       "      <td>36919.73</td>\n",
       "      <td>30-34</td>\n",
       "    </tr>\n",
       "    <tr>\n",
       "      <th>2</th>\n",
       "      <td>100000003</td>\n",
       "      <td>Liam</td>\n",
       "      <td>Brown</td>\n",
       "      <td>Male</td>\n",
       "      <td>England</td>\n",
       "      <td>White Collar</td>\n",
       "      <td>07.Jan.15</td>\n",
       "      <td>101536.83</td>\n",
       "      <td>45-49</td>\n",
       "    </tr>\n",
       "    <tr>\n",
       "      <th>3</th>\n",
       "      <td>300000004</td>\n",
       "      <td>Trevor</td>\n",
       "      <td>Parr</td>\n",
       "      <td>Male</td>\n",
       "      <td>Wales</td>\n",
       "      <td>White Collar</td>\n",
       "      <td>08.Jan.15</td>\n",
       "      <td>1421.52</td>\n",
       "      <td>30-34</td>\n",
       "    </tr>\n",
       "    <tr>\n",
       "      <th>4</th>\n",
       "      <td>100000005</td>\n",
       "      <td>Deirdre</td>\n",
       "      <td>Pullman</td>\n",
       "      <td>Female</td>\n",
       "      <td>England</td>\n",
       "      <td>Blue Collar</td>\n",
       "      <td>09.Jan.15</td>\n",
       "      <td>35639.79</td>\n",
       "      <td>35-39</td>\n",
       "    </tr>\n",
       "  </tbody>\n",
       "</table>\n",
       "</div>"
      ],
      "text/plain": [
       "   Customer ID     Name  Surname  Gender            Region Job Classification  \\\n",
       "0    100000001    Simon    Walsh    Male           England       White Collar   \n",
       "1    400000002  Jasmine   Miller  Female  Northern Ireland        Blue Collar   \n",
       "2    100000003     Liam    Brown    Male           England       White Collar   \n",
       "3    300000004   Trevor     Parr    Male             Wales       White Collar   \n",
       "4    100000005  Deirdre  Pullman  Female           England        Blue Collar   \n",
       "\n",
       "  Date Joined    Balance Age_range  \n",
       "0   05.Jan.15  113810.15     20-24  \n",
       "1   06.Jan.15   36919.73     30-34  \n",
       "2   07.Jan.15  101536.83     45-49  \n",
       "3   08.Jan.15    1421.52     30-34  \n",
       "4   09.Jan.15   35639.79     35-39  "
      ]
     },
     "execution_count": 10,
     "metadata": {},
     "output_type": "execute_result"
    }
   ],
   "source": [
    "bank.head()"
   ]
  },
  {
   "cell_type": "code",
   "execution_count": 11,
   "id": "370ffe6d",
   "metadata": {},
   "outputs": [],
   "source": [
    "gender_count = bank.groupby('Gender')"
   ]
  },
  {
   "cell_type": "code",
   "execution_count": 12,
   "id": "5684f434",
   "metadata": {},
   "outputs": [],
   "source": [
    "d2 = gender_count['Gender'].count().to_frame(name = 'Gender_counts').reset_index()"
   ]
  },
  {
   "cell_type": "code",
   "execution_count": 13,
   "id": "c8efd959",
   "metadata": {},
   "outputs": [
    {
     "data": {
      "text/html": [
       "<div>\n",
       "<style scoped>\n",
       "    .dataframe tbody tr th:only-of-type {\n",
       "        vertical-align: middle;\n",
       "    }\n",
       "\n",
       "    .dataframe tbody tr th {\n",
       "        vertical-align: top;\n",
       "    }\n",
       "\n",
       "    .dataframe thead th {\n",
       "        text-align: right;\n",
       "    }\n",
       "</style>\n",
       "<table border=\"1\" class=\"dataframe\">\n",
       "  <thead>\n",
       "    <tr style=\"text-align: right;\">\n",
       "      <th></th>\n",
       "      <th>Gender</th>\n",
       "      <th>Gender_counts</th>\n",
       "    </tr>\n",
       "  </thead>\n",
       "  <tbody>\n",
       "    <tr>\n",
       "      <th>0</th>\n",
       "      <td>Female</td>\n",
       "      <td>1849</td>\n",
       "    </tr>\n",
       "    <tr>\n",
       "      <th>1</th>\n",
       "      <td>Male</td>\n",
       "      <td>2165</td>\n",
       "    </tr>\n",
       "  </tbody>\n",
       "</table>\n",
       "</div>"
      ],
      "text/plain": [
       "   Gender  Gender_counts\n",
       "0  Female           1849\n",
       "1    Male           2165"
      ]
     },
     "execution_count": 13,
     "metadata": {},
     "output_type": "execute_result"
    }
   ],
   "source": [
    "d2"
   ]
  },
  {
   "cell_type": "code",
   "execution_count": 14,
   "id": "3881e894",
   "metadata": {},
   "outputs": [
    {
     "data": {
      "text/plain": [
       "Text(0.5, 1.0, 'Gender vs Gender Count')"
      ]
     },
     "execution_count": 14,
     "metadata": {},
     "output_type": "execute_result"
    },
    {
     "data": {
      "image/png": "[encoded data removed]",
      "text/plain": [
       "<Figure size 432x288 with 1 Axes>"
      ]
     },
     "metadata": {
      "needs_background": "light"
     },
     "output_type": "display_data"
    }
   ],
   "source": [
    "sns.barplot(x = 'Gender', y= 'Gender_counts', data =d2)\n",
    "plt.xlabel('Gender')\n",
    "plt.ylabel('Gender Count for Bank Customer')\n",
    "plt.title('Gender vs Gender Count')"
   ]
  },
  {
   "cell_type": "markdown",
   "id": "3acceca1",
   "metadata": {},
   "source": [
    "Famous Bank have more of Male Customers"
   ]
  },
  {
   "cell_type": "code",
   "execution_count": 15,
   "id": "95a68d5f",
   "metadata": {},
   "outputs": [],
   "source": [
    "# Let's visualise the region were the customers are from\n",
    "Region_count = bank.groupby('Region')\n",
    "R1 = Region_count['Region'].count().to_frame(name = 'Region_counts').reset_index()"
   ]
  },
  {
   "cell_type": "code",
   "execution_count": 16,
   "id": "48fd3bd4",
   "metadata": {},
   "outputs": [
    {
     "data": {
      "text/plain": [
       "Text(0.5, 1.0, 'Region vs Region Count')"
      ]
     },
     "execution_count": 16,
     "metadata": {},
     "output_type": "execute_result"
    },
    {
     "data": {
      "image/png": "[encoded data removed]",
      "text/plain": [
       "<Figure size 432x288 with 1 Axes>"
      ]
     },
     "metadata": {
      "needs_background": "light"
     },
     "output_type": "display_data"
    }
   ],
   "source": [
    "sns.barplot(x = 'Region', y= 'Region_counts', data =R1)\n",
    "# plt.xlabel('Gender')\n",
    "plt.ylabel('Region Count for Bank Customer')\n",
    "plt.title('Region vs Region Count')"
   ]
  },
  {
   "cell_type": "markdown",
   "id": "80eb78b6",
   "metadata": {},
   "source": [
    "From the visualization above we can see that the higest customer by region come from England, followed by Scotland, Wales and Northern Ireland."
   ]
  },
  {
   "cell_type": "code",
   "execution_count": 17,
   "id": "afb46b3a",
   "metadata": {},
   "outputs": [],
   "source": [
    "# Let's visualise the Job Classification were the customers are from\n",
    "Job_count = bank.groupby('Job Classification')\n",
    "Jb = Job_count['Job Classification'].count().to_frame(name = 'Job Classification_counts').reset_index()"
   ]
  },
  {
   "cell_type": "code",
   "execution_count": 18,
   "id": "01605a54",
   "metadata": {},
   "outputs": [
    {
     "data": {
      "text/plain": [
       "Text(0.5, 1.0, 'Job Classification vs Count')"
      ]
     },
     "execution_count": 18,
     "metadata": {},
     "output_type": "execute_result"
    },
    {
     "data": {
      "image/png": "[encoded data removed]",
      "text/plain": [
       "<Figure size 432x288 with 1 Axes>"
      ]
     },
     "metadata": {
      "needs_background": "light"
     },
     "output_type": "display_data"
    }
   ],
   "source": [
    "sns.barplot(x = 'Job Classification', y= 'Job Classification_counts', data =Jb)\n",
    "plt.ylabel('Job Classification Count for Bank Customer')\n",
    "plt.title('Job Classification vs Count')"
   ]
  },
  {
   "cell_type": "markdown",
   "id": "e569f00e",
   "metadata": {},
   "source": [
    "From the chart above we can conclude that majority of Famous bank customers belong to `white collar` Job classification"
   ]
  },
  {
   "cell_type": "code",
   "execution_count": 19,
   "id": "a118b9f2",
   "metadata": {},
   "outputs": [],
   "source": [
    "# sns.barplot('Age', 'Purchase', hue='Gender', data=final_df)"
   ]
  },
  {
   "cell_type": "code",
   "execution_count": 20,
   "id": "c41fea9d",
   "metadata": {},
   "outputs": [],
   "source": [
    "age=bank.groupby(['Gender','Age_range']).size().reset_index().rename(columns={0:'Age_count'})"
   ]
  },
  {
   "cell_type": "code",
   "execution_count": 21,
   "id": "5b6c3126",
   "metadata": {},
   "outputs": [
    {
     "data": {
      "text/html": [
       "<div>\n",
       "<style scoped>\n",
       "    .dataframe tbody tr th:only-of-type {\n",
       "        vertical-align: middle;\n",
       "    }\n",
       "\n",
       "    .dataframe tbody tr th {\n",
       "        vertical-align: top;\n",
       "    }\n",
       "\n",
       "    .dataframe thead th {\n",
       "        text-align: right;\n",
       "    }\n",
       "</style>\n",
       "<table border=\"1\" class=\"dataframe\">\n",
       "  <thead>\n",
       "    <tr style=\"text-align: right;\">\n",
       "      <th></th>\n",
       "      <th>Gender</th>\n",
       "      <th>Age_range</th>\n",
       "      <th>Age_count</th>\n",
       "    </tr>\n",
       "  </thead>\n",
       "  <tbody>\n",
       "    <tr>\n",
       "      <th>0</th>\n",
       "      <td>Female</td>\n",
       "      <td>15-19</td>\n",
       "      <td>39</td>\n",
       "    </tr>\n",
       "    <tr>\n",
       "      <th>1</th>\n",
       "      <td>Female</td>\n",
       "      <td>20-24</td>\n",
       "      <td>137</td>\n",
       "    </tr>\n",
       "    <tr>\n",
       "      <th>2</th>\n",
       "      <td>Female</td>\n",
       "      <td>25-29</td>\n",
       "      <td>274</td>\n",
       "    </tr>\n",
       "    <tr>\n",
       "      <th>3</th>\n",
       "      <td>Female</td>\n",
       "      <td>30-34</td>\n",
       "      <td>434</td>\n",
       "    </tr>\n",
       "    <tr>\n",
       "      <th>4</th>\n",
       "      <td>Female</td>\n",
       "      <td>35-39</td>\n",
       "      <td>389</td>\n",
       "    </tr>\n",
       "    <tr>\n",
       "      <th>5</th>\n",
       "      <td>Female</td>\n",
       "      <td>40-44</td>\n",
       "      <td>262</td>\n",
       "    </tr>\n",
       "    <tr>\n",
       "      <th>6</th>\n",
       "      <td>Female</td>\n",
       "      <td>45-49</td>\n",
       "      <td>139</td>\n",
       "    </tr>\n",
       "    <tr>\n",
       "      <th>7</th>\n",
       "      <td>Female</td>\n",
       "      <td>50-54</td>\n",
       "      <td>96</td>\n",
       "    </tr>\n",
       "    <tr>\n",
       "      <th>8</th>\n",
       "      <td>Female</td>\n",
       "      <td>55-59</td>\n",
       "      <td>63</td>\n",
       "    </tr>\n",
       "    <tr>\n",
       "      <th>9</th>\n",
       "      <td>Female</td>\n",
       "      <td>60-64</td>\n",
       "      <td>16</td>\n",
       "    </tr>\n",
       "    <tr>\n",
       "      <th>10</th>\n",
       "      <td>Female</td>\n",
       "      <td>65-69</td>\n",
       "      <td>0</td>\n",
       "    </tr>\n",
       "    <tr>\n",
       "      <th>11</th>\n",
       "      <td>Male</td>\n",
       "      <td>15-19</td>\n",
       "      <td>35</td>\n",
       "    </tr>\n",
       "    <tr>\n",
       "      <th>12</th>\n",
       "      <td>Male</td>\n",
       "      <td>20-24</td>\n",
       "      <td>92</td>\n",
       "    </tr>\n",
       "    <tr>\n",
       "      <th>13</th>\n",
       "      <td>Male</td>\n",
       "      <td>25-29</td>\n",
       "      <td>266</td>\n",
       "    </tr>\n",
       "    <tr>\n",
       "      <th>14</th>\n",
       "      <td>Male</td>\n",
       "      <td>30-34</td>\n",
       "      <td>405</td>\n",
       "    </tr>\n",
       "    <tr>\n",
       "      <th>15</th>\n",
       "      <td>Male</td>\n",
       "      <td>35-39</td>\n",
       "      <td>377</td>\n",
       "    </tr>\n",
       "    <tr>\n",
       "      <th>16</th>\n",
       "      <td>Male</td>\n",
       "      <td>40-44</td>\n",
       "      <td>339</td>\n",
       "    </tr>\n",
       "    <tr>\n",
       "      <th>17</th>\n",
       "      <td>Male</td>\n",
       "      <td>45-49</td>\n",
       "      <td>261</td>\n",
       "    </tr>\n",
       "    <tr>\n",
       "      <th>18</th>\n",
       "      <td>Male</td>\n",
       "      <td>50-54</td>\n",
       "      <td>218</td>\n",
       "    </tr>\n",
       "    <tr>\n",
       "      <th>19</th>\n",
       "      <td>Male</td>\n",
       "      <td>55-59</td>\n",
       "      <td>121</td>\n",
       "    </tr>\n",
       "    <tr>\n",
       "      <th>20</th>\n",
       "      <td>Male</td>\n",
       "      <td>60-64</td>\n",
       "      <td>51</td>\n",
       "    </tr>\n",
       "    <tr>\n",
       "      <th>21</th>\n",
       "      <td>Male</td>\n",
       "      <td>65-69</td>\n",
       "      <td>0</td>\n",
       "    </tr>\n",
       "  </tbody>\n",
       "</table>\n",
       "</div>"
      ],
      "text/plain": [
       "    Gender Age_range  Age_count\n",
       "0   Female     15-19         39\n",
       "1   Female     20-24        137\n",
       "2   Female     25-29        274\n",
       "3   Female     30-34        434\n",
       "4   Female     35-39        389\n",
       "5   Female     40-44        262\n",
       "6   Female     45-49        139\n",
       "7   Female     50-54         96\n",
       "8   Female     55-59         63\n",
       "9   Female     60-64         16\n",
       "10  Female     65-69          0\n",
       "11    Male     15-19         35\n",
       "12    Male     20-24         92\n",
       "13    Male     25-29        266\n",
       "14    Male     30-34        405\n",
       "15    Male     35-39        377\n",
       "16    Male     40-44        339\n",
       "17    Male     45-49        261\n",
       "18    Male     50-54        218\n",
       "19    Male     55-59        121\n",
       "20    Male     60-64         51\n",
       "21    Male     65-69          0"
      ]
     },
     "execution_count": 21,
     "metadata": {},
     "output_type": "execute_result"
    }
   ],
   "source": [
    "age"
   ]
  },
  {
   "cell_type": "code",
   "execution_count": 22,
   "id": "76772c1d",
   "metadata": {},
   "outputs": [
    {
     "data": {
      "image/png": "[encoded data removed]",
      "text/plain": [
       "<Figure size 864x432 with 1 Axes>"
      ]
     },
     "metadata": {
      "needs_background": "light"
     },
     "output_type": "display_data"
    }
   ],
   "source": [
    "import matplotlib\n",
    "matplotlib.rcParams['figure.figsize'] = (12, 6)\n",
    "sns.barplot(x=\"Age_range\",y=\"Age_count\", hue = \"Gender\",data=age);\n",
    "plt.title('Age vs Age_count with respect to Gender');"
   ]
  },
  {
   "cell_type": "markdown",
   "id": "1912c190",
   "metadata": {},
   "source": [
    "In the chat above we are looking at the age_range and count with respect to gender and we can see that the highest age range `30-34` has more female than male. From this chat can we conclude that Famous Bank has more female customers than male? Well i don't think so, let find out the answer below"
   ]
  },
  {
   "cell_type": "code",
   "execution_count": 23,
   "id": "5c2c9b32",
   "metadata": {},
   "outputs": [],
   "source": [
    "gender=bank.groupby('Gender').size().reset_index().rename(columns={0:'gender_count'})"
   ]
  },
  {
   "cell_type": "code",
   "execution_count": 24,
   "id": "f6e9aec9",
   "metadata": {},
   "outputs": [
    {
     "data": {
      "text/html": [
       "<div>\n",
       "<style scoped>\n",
       "    .dataframe tbody tr th:only-of-type {\n",
       "        vertical-align: middle;\n",
       "    }\n",
       "\n",
       "    .dataframe tbody tr th {\n",
       "        vertical-align: top;\n",
       "    }\n",
       "\n",
       "    .dataframe thead th {\n",
       "        text-align: right;\n",
       "    }\n",
       "</style>\n",
       "<table border=\"1\" class=\"dataframe\">\n",
       "  <thead>\n",
       "    <tr style=\"text-align: right;\">\n",
       "      <th></th>\n",
       "      <th>Gender</th>\n",
       "      <th>gender_count</th>\n",
       "    </tr>\n",
       "  </thead>\n",
       "  <tbody>\n",
       "    <tr>\n",
       "      <th>0</th>\n",
       "      <td>Female</td>\n",
       "      <td>1849</td>\n",
       "    </tr>\n",
       "    <tr>\n",
       "      <th>1</th>\n",
       "      <td>Male</td>\n",
       "      <td>2165</td>\n",
       "    </tr>\n",
       "  </tbody>\n",
       "</table>\n",
       "</div>"
      ],
      "text/plain": [
       "   Gender  gender_count\n",
       "0  Female          1849\n",
       "1    Male          2165"
      ]
     },
     "execution_count": 24,
     "metadata": {},
     "output_type": "execute_result"
    }
   ],
   "source": [
    "gender"
   ]
  },
  {
   "cell_type": "code",
   "execution_count": 25,
   "id": "ab6eb295",
   "metadata": {},
   "outputs": [
    {
     "data": {
      "image/png": "[encoded data removed]",
      "text/plain": [
       "<Figure size 864x432 with 1 Axes>"
      ]
     },
     "metadata": {
      "needs_background": "light"
     },
     "output_type": "display_data"
    }
   ],
   "source": [
    "sns.barplot(x=\"Gender\",y=\"gender_count\",data=gender);\n",
    "plt.title('Gender vs Gender_count');"
   ]
  },
  {
   "cell_type": "markdown",
   "id": "e04f2a82",
   "metadata": {},
   "source": [
    "In `Age vs Age_count`chat with respect to age_range between `30-34` i asked `can we conclude that Famous Bank has more female customers than male customers?`. The answer to that question is No. From the chat above we can we see that Famous Bank has more Male customers than female customers that is `2165` and `1849` respectively"
   ]
  },
  {
   "cell_type": "code",
   "execution_count": 26,
   "id": "6a5a2a06",
   "metadata": {},
   "outputs": [
    {
     "data": {
      "image/png": "[encoded data removed]",
      "text/plain": [
       "<Figure size 864x432 with 1 Axes>"
      ]
     },
     "metadata": {
      "needs_background": "light"
     },
     "output_type": "display_data"
    }
   ],
   "source": [
    "sns.barplot(x=\"Age_range\",y=\"Age_count\",data=age);\n",
    "plt.title('Age vs Age_count');"
   ]
  },
  {
   "cell_type": "markdown",
   "id": "cfe9e4fa",
   "metadata": {},
   "source": [
    "In the chat above we are trying to see the highest age range banking with Famous Bank. And from the chat we have more customers between the age range of `30-34` followed by age range of `35-39`."
   ]
  },
  {
   "cell_type": "code",
   "execution_count": 27,
   "id": "c37efbcb",
   "metadata": {},
   "outputs": [],
   "source": [
    "AJ = bank[['Age_range','Job Classification']].groupby(['Age_range','Job Classification']).size().reset_index().rename(columns={0:'AJ_count'})"
   ]
  },
  {
   "cell_type": "code",
   "execution_count": 28,
   "id": "866b00e9",
   "metadata": {},
   "outputs": [
    {
     "data": {
      "text/html": [
       "<div>\n",
       "<style scoped>\n",
       "    .dataframe tbody tr th:only-of-type {\n",
       "        vertical-align: middle;\n",
       "    }\n",
       "\n",
       "    .dataframe tbody tr th {\n",
       "        vertical-align: top;\n",
       "    }\n",
       "\n",
       "    .dataframe thead th {\n",
       "        text-align: right;\n",
       "    }\n",
       "</style>\n",
       "<table border=\"1\" class=\"dataframe\">\n",
       "  <thead>\n",
       "    <tr style=\"text-align: right;\">\n",
       "      <th></th>\n",
       "      <th>Age_range</th>\n",
       "      <th>Job Classification</th>\n",
       "      <th>AJ_count</th>\n",
       "    </tr>\n",
       "  </thead>\n",
       "  <tbody>\n",
       "    <tr>\n",
       "      <th>0</th>\n",
       "      <td>15-19</td>\n",
       "      <td>Blue Collar</td>\n",
       "      <td>14</td>\n",
       "    </tr>\n",
       "    <tr>\n",
       "      <th>1</th>\n",
       "      <td>15-19</td>\n",
       "      <td>Other</td>\n",
       "      <td>19</td>\n",
       "    </tr>\n",
       "    <tr>\n",
       "      <th>2</th>\n",
       "      <td>15-19</td>\n",
       "      <td>White Collar</td>\n",
       "      <td>41</td>\n",
       "    </tr>\n",
       "    <tr>\n",
       "      <th>3</th>\n",
       "      <td>20-24</td>\n",
       "      <td>Blue Collar</td>\n",
       "      <td>44</td>\n",
       "    </tr>\n",
       "    <tr>\n",
       "      <th>4</th>\n",
       "      <td>20-24</td>\n",
       "      <td>Other</td>\n",
       "      <td>54</td>\n",
       "    </tr>\n",
       "    <tr>\n",
       "      <th>5</th>\n",
       "      <td>20-24</td>\n",
       "      <td>White Collar</td>\n",
       "      <td>131</td>\n",
       "    </tr>\n",
       "    <tr>\n",
       "      <th>6</th>\n",
       "      <td>25-29</td>\n",
       "      <td>Blue Collar</td>\n",
       "      <td>108</td>\n",
       "    </tr>\n",
       "    <tr>\n",
       "      <th>7</th>\n",
       "      <td>25-29</td>\n",
       "      <td>Other</td>\n",
       "      <td>100</td>\n",
       "    </tr>\n",
       "    <tr>\n",
       "      <th>8</th>\n",
       "      <td>25-29</td>\n",
       "      <td>White Collar</td>\n",
       "      <td>332</td>\n",
       "    </tr>\n",
       "    <tr>\n",
       "      <th>9</th>\n",
       "      <td>30-34</td>\n",
       "      <td>Blue Collar</td>\n",
       "      <td>163</td>\n",
       "    </tr>\n",
       "    <tr>\n",
       "      <th>10</th>\n",
       "      <td>30-34</td>\n",
       "      <td>Other</td>\n",
       "      <td>152</td>\n",
       "    </tr>\n",
       "    <tr>\n",
       "      <th>11</th>\n",
       "      <td>30-34</td>\n",
       "      <td>White Collar</td>\n",
       "      <td>524</td>\n",
       "    </tr>\n",
       "    <tr>\n",
       "      <th>12</th>\n",
       "      <td>35-39</td>\n",
       "      <td>Blue Collar</td>\n",
       "      <td>151</td>\n",
       "    </tr>\n",
       "    <tr>\n",
       "      <th>13</th>\n",
       "      <td>35-39</td>\n",
       "      <td>Other</td>\n",
       "      <td>134</td>\n",
       "    </tr>\n",
       "    <tr>\n",
       "      <th>14</th>\n",
       "      <td>35-39</td>\n",
       "      <td>White Collar</td>\n",
       "      <td>481</td>\n",
       "    </tr>\n",
       "    <tr>\n",
       "      <th>15</th>\n",
       "      <td>40-44</td>\n",
       "      <td>Blue Collar</td>\n",
       "      <td>164</td>\n",
       "    </tr>\n",
       "    <tr>\n",
       "      <th>16</th>\n",
       "      <td>40-44</td>\n",
       "      <td>Other</td>\n",
       "      <td>168</td>\n",
       "    </tr>\n",
       "    <tr>\n",
       "      <th>17</th>\n",
       "      <td>40-44</td>\n",
       "      <td>White Collar</td>\n",
       "      <td>269</td>\n",
       "    </tr>\n",
       "    <tr>\n",
       "      <th>18</th>\n",
       "      <td>45-49</td>\n",
       "      <td>Blue Collar</td>\n",
       "      <td>141</td>\n",
       "    </tr>\n",
       "    <tr>\n",
       "      <th>19</th>\n",
       "      <td>45-49</td>\n",
       "      <td>Other</td>\n",
       "      <td>140</td>\n",
       "    </tr>\n",
       "    <tr>\n",
       "      <th>20</th>\n",
       "      <td>45-49</td>\n",
       "      <td>White Collar</td>\n",
       "      <td>119</td>\n",
       "    </tr>\n",
       "    <tr>\n",
       "      <th>21</th>\n",
       "      <td>50-54</td>\n",
       "      <td>Blue Collar</td>\n",
       "      <td>145</td>\n",
       "    </tr>\n",
       "    <tr>\n",
       "      <th>22</th>\n",
       "      <td>50-54</td>\n",
       "      <td>Other</td>\n",
       "      <td>127</td>\n",
       "    </tr>\n",
       "    <tr>\n",
       "      <th>23</th>\n",
       "      <td>50-54</td>\n",
       "      <td>White Collar</td>\n",
       "      <td>42</td>\n",
       "    </tr>\n",
       "    <tr>\n",
       "      <th>24</th>\n",
       "      <td>55-59</td>\n",
       "      <td>Blue Collar</td>\n",
       "      <td>81</td>\n",
       "    </tr>\n",
       "    <tr>\n",
       "      <th>25</th>\n",
       "      <td>55-59</td>\n",
       "      <td>Other</td>\n",
       "      <td>89</td>\n",
       "    </tr>\n",
       "    <tr>\n",
       "      <th>26</th>\n",
       "      <td>55-59</td>\n",
       "      <td>White Collar</td>\n",
       "      <td>14</td>\n",
       "    </tr>\n",
       "    <tr>\n",
       "      <th>27</th>\n",
       "      <td>60-64</td>\n",
       "      <td>Blue Collar</td>\n",
       "      <td>38</td>\n",
       "    </tr>\n",
       "    <tr>\n",
       "      <th>28</th>\n",
       "      <td>60-64</td>\n",
       "      <td>Other</td>\n",
       "      <td>27</td>\n",
       "    </tr>\n",
       "    <tr>\n",
       "      <th>29</th>\n",
       "      <td>60-64</td>\n",
       "      <td>White Collar</td>\n",
       "      <td>2</td>\n",
       "    </tr>\n",
       "    <tr>\n",
       "      <th>30</th>\n",
       "      <td>65-69</td>\n",
       "      <td>Blue Collar</td>\n",
       "      <td>0</td>\n",
       "    </tr>\n",
       "    <tr>\n",
       "      <th>31</th>\n",
       "      <td>65-69</td>\n",
       "      <td>Other</td>\n",
       "      <td>0</td>\n",
       "    </tr>\n",
       "    <tr>\n",
       "      <th>32</th>\n",
       "      <td>65-69</td>\n",
       "      <td>White Collar</td>\n",
       "      <td>0</td>\n",
       "    </tr>\n",
       "  </tbody>\n",
       "</table>\n",
       "</div>"
      ],
      "text/plain": [
       "   Age_range Job Classification  AJ_count\n",
       "0      15-19        Blue Collar        14\n",
       "1      15-19              Other        19\n",
       "2      15-19       White Collar        41\n",
       "3      20-24        Blue Collar        44\n",
       "4      20-24              Other        54\n",
       "5      20-24       White Collar       131\n",
       "6      25-29        Blue Collar       108\n",
       "7      25-29              Other       100\n",
       "8      25-29       White Collar       332\n",
       "9      30-34        Blue Collar       163\n",
       "10     30-34              Other       152\n",
       "11     30-34       White Collar       524\n",
       "12     35-39        Blue Collar       151\n",
       "13     35-39              Other       134\n",
       "14     35-39       White Collar       481\n",
       "15     40-44        Blue Collar       164\n",
       "16     40-44              Other       168\n",
       "17     40-44       White Collar       269\n",
       "18     45-49        Blue Collar       141\n",
       "19     45-49              Other       140\n",
       "20     45-49       White Collar       119\n",
       "21     50-54        Blue Collar       145\n",
       "22     50-54              Other       127\n",
       "23     50-54       White Collar        42\n",
       "24     55-59        Blue Collar        81\n",
       "25     55-59              Other        89\n",
       "26     55-59       White Collar        14\n",
       "27     60-64        Blue Collar        38\n",
       "28     60-64              Other        27\n",
       "29     60-64       White Collar         2\n",
       "30     65-69        Blue Collar         0\n",
       "31     65-69              Other         0\n",
       "32     65-69       White Collar         0"
      ]
     },
     "execution_count": 28,
     "metadata": {},
     "output_type": "execute_result"
    }
   ],
   "source": [
    "AJ"
   ]
  },
  {
   "cell_type": "code",
   "execution_count": 29,
   "id": "36c71786",
   "metadata": {},
   "outputs": [
    {
     "data": {
      "image/png": "[encoded data removed]",
      "text/plain": [
       "<Figure size 864x432 with 1 Axes>"
      ]
     },
     "metadata": {
      "needs_background": "light"
     },
     "output_type": "display_data"
    }
   ],
   "source": [
    "sns.barplot(x=\"Age_range\",y=\"AJ_count\", hue = \"Job Classification\",data=AJ);\n",
    "plt.title('Age vs Age_count with repect to Job Classification');"
   ]
  },
  {
   "cell_type": "markdown",
   "id": "e2d24b2a",
   "metadata": {},
   "source": [
    "From this data we can say that white collar jobs dominates most of the age ranges eg `20-24, 25-29, 30-34, 35-39, 40-44` etc"
   ]
  },
  {
   "cell_type": "code",
   "execution_count": 30,
   "id": "8cd38f96",
   "metadata": {},
   "outputs": [],
   "source": [
    "Jobs = bank[['Region','Job Classification']].groupby(['Region','Job Classification']).size().reset_index().rename(columns={0:'counts'})"
   ]
  },
  {
   "cell_type": "code",
   "execution_count": 31,
   "id": "c3da3496",
   "metadata": {},
   "outputs": [
    {
     "data": {
      "text/html": [
       "<div>\n",
       "<style scoped>\n",
       "    .dataframe tbody tr th:only-of-type {\n",
       "        vertical-align: middle;\n",
       "    }\n",
       "\n",
       "    .dataframe tbody tr th {\n",
       "        vertical-align: top;\n",
       "    }\n",
       "\n",
       "    .dataframe thead th {\n",
       "        text-align: right;\n",
       "    }\n",
       "</style>\n",
       "<table border=\"1\" class=\"dataframe\">\n",
       "  <thead>\n",
       "    <tr style=\"text-align: right;\">\n",
       "      <th></th>\n",
       "      <th>Region</th>\n",
       "      <th>Job Classification</th>\n",
       "      <th>counts</th>\n",
       "    </tr>\n",
       "  </thead>\n",
       "  <tbody>\n",
       "    <tr>\n",
       "      <th>0</th>\n",
       "      <td>England</td>\n",
       "      <td>Blue Collar</td>\n",
       "      <td>344</td>\n",
       "    </tr>\n",
       "    <tr>\n",
       "      <th>1</th>\n",
       "      <td>England</td>\n",
       "      <td>Other</td>\n",
       "      <td>314</td>\n",
       "    </tr>\n",
       "    <tr>\n",
       "      <th>2</th>\n",
       "      <td>England</td>\n",
       "      <td>White Collar</td>\n",
       "      <td>1501</td>\n",
       "    </tr>\n",
       "    <tr>\n",
       "      <th>3</th>\n",
       "      <td>Northern Ireland</td>\n",
       "      <td>Blue Collar</td>\n",
       "      <td>41</td>\n",
       "    </tr>\n",
       "    <tr>\n",
       "      <th>4</th>\n",
       "      <td>Northern Ireland</td>\n",
       "      <td>Other</td>\n",
       "      <td>105</td>\n",
       "    </tr>\n",
       "    <tr>\n",
       "      <th>5</th>\n",
       "      <td>Northern Ireland</td>\n",
       "      <td>White Collar</td>\n",
       "      <td>65</td>\n",
       "    </tr>\n",
       "    <tr>\n",
       "      <th>6</th>\n",
       "      <td>Scotland</td>\n",
       "      <td>Blue Collar</td>\n",
       "      <td>544</td>\n",
       "    </tr>\n",
       "    <tr>\n",
       "      <th>7</th>\n",
       "      <td>Scotland</td>\n",
       "      <td>Other</td>\n",
       "      <td>496</td>\n",
       "    </tr>\n",
       "    <tr>\n",
       "      <th>8</th>\n",
       "      <td>Scotland</td>\n",
       "      <td>White Collar</td>\n",
       "      <td>84</td>\n",
       "    </tr>\n",
       "    <tr>\n",
       "      <th>9</th>\n",
       "      <td>Wales</td>\n",
       "      <td>Blue Collar</td>\n",
       "      <td>120</td>\n",
       "    </tr>\n",
       "    <tr>\n",
       "      <th>10</th>\n",
       "      <td>Wales</td>\n",
       "      <td>Other</td>\n",
       "      <td>95</td>\n",
       "    </tr>\n",
       "    <tr>\n",
       "      <th>11</th>\n",
       "      <td>Wales</td>\n",
       "      <td>White Collar</td>\n",
       "      <td>305</td>\n",
       "    </tr>\n",
       "  </tbody>\n",
       "</table>\n",
       "</div>"
      ],
      "text/plain": [
       "              Region Job Classification  counts\n",
       "0            England        Blue Collar     344\n",
       "1            England              Other     314\n",
       "2            England       White Collar    1501\n",
       "3   Northern Ireland        Blue Collar      41\n",
       "4   Northern Ireland              Other     105\n",
       "5   Northern Ireland       White Collar      65\n",
       "6           Scotland        Blue Collar     544\n",
       "7           Scotland              Other     496\n",
       "8           Scotland       White Collar      84\n",
       "9              Wales        Blue Collar     120\n",
       "10             Wales              Other      95\n",
       "11             Wales       White Collar     305"
      ]
     },
     "execution_count": 31,
     "metadata": {},
     "output_type": "execute_result"
    }
   ],
   "source": [
    "Jobs"
   ]
  },
  {
   "cell_type": "code",
   "execution_count": 32,
   "id": "971bbe22",
   "metadata": {},
   "outputs": [
    {
     "data": {
      "image/png": "[encoded data removed]",
      "text/plain": [
       "<Figure size 864x432 with 1 Axes>"
      ]
     },
     "metadata": {
      "needs_background": "light"
     },
     "output_type": "display_data"
    }
   ],
   "source": [
    "sns.barplot(x=\"Job Classification\",y=\"counts\",data=Jobs);\n",
    "plt.title('Job Classification vs counts');"
   ]
  },
  {
   "cell_type": "markdown",
   "id": "2f2e50c1",
   "metadata": {},
   "source": [
    "Famous Bank has more of white collar Job Customers"
   ]
  },
  {
   "cell_type": "code",
   "execution_count": 33,
   "id": "15294729",
   "metadata": {},
   "outputs": [
    {
     "data": {
      "image/png": "[encoded data removed]",
      "text/plain": [
       "<Figure size 864x432 with 1 Axes>"
      ]
     },
     "metadata": {
      "needs_background": "light"
     },
     "output_type": "display_data"
    }
   ],
   "source": [
    "sns.barplot(x=\"Job Classification\",y=\"counts\",hue = 'Region',data=Jobs);\n",
    "plt.title('Job Classification vs counts with respect to Regions');"
   ]
  },
  {
   "cell_type": "markdown",
   "id": "4604d26a",
   "metadata": {},
   "source": [
    "From the above chart we can notice the following:\n",
    "1. Famous Bank has highest customers in England working with white collar Jobs\n",
    "2. Famous Bank has more customers in England and Scotland\n",
    "3. Famous bank has less customers from Northern Ireland and Wales, so if they are looking for regions to campaign, Wales and Northern is the best place to go"
   ]
  },
  {
   "cell_type": "code",
   "execution_count": 36,
   "id": "7193b14b",
   "metadata": {},
   "outputs": [],
   "source": [
    "#let's look at the balance for each of the regions\n",
    "balance= bank.groupby(['Region', 'Gender'])['Balance'].sum().reset_index()"
   ]
  },
  {
   "cell_type": "code",
   "execution_count": 37,
   "id": "ea0a3f98",
   "metadata": {},
   "outputs": [
    {
     "data": {
      "text/html": [
       "<div>\n",
       "<style scoped>\n",
       "    .dataframe tbody tr th:only-of-type {\n",
       "        vertical-align: middle;\n",
       "    }\n",
       "\n",
       "    .dataframe tbody tr th {\n",
       "        vertical-align: top;\n",
       "    }\n",
       "\n",
       "    .dataframe thead th {\n",
       "        text-align: right;\n",
       "    }\n",
       "</style>\n",
       "<table border=\"1\" class=\"dataframe\">\n",
       "  <thead>\n",
       "    <tr style=\"text-align: right;\">\n",
       "      <th></th>\n",
       "      <th>Region</th>\n",
       "      <th>Gender</th>\n",
       "      <th>Balance</th>\n",
       "    </tr>\n",
       "  </thead>\n",
       "  <tbody>\n",
       "    <tr>\n",
       "      <th>0</th>\n",
       "      <td>England</td>\n",
       "      <td>Female</td>\n",
       "      <td>43627976.64</td>\n",
       "    </tr>\n",
       "    <tr>\n",
       "      <th>1</th>\n",
       "      <td>England</td>\n",
       "      <td>Male</td>\n",
       "      <td>41205420.36</td>\n",
       "    </tr>\n",
       "    <tr>\n",
       "      <th>2</th>\n",
       "      <td>Northern Ireland</td>\n",
       "      <td>Female</td>\n",
       "      <td>6086799.50</td>\n",
       "    </tr>\n",
       "    <tr>\n",
       "      <th>3</th>\n",
       "      <td>Northern Ireland</td>\n",
       "      <td>Male</td>\n",
       "      <td>2248766.89</td>\n",
       "    </tr>\n",
       "    <tr>\n",
       "      <th>4</th>\n",
       "      <td>Scotland</td>\n",
       "      <td>Female</td>\n",
       "      <td>11900747.68</td>\n",
       "    </tr>\n",
       "    <tr>\n",
       "      <th>5</th>\n",
       "      <td>Scotland</td>\n",
       "      <td>Male</td>\n",
       "      <td>32509983.04</td>\n",
       "    </tr>\n",
       "    <tr>\n",
       "      <th>6</th>\n",
       "      <td>Wales</td>\n",
       "      <td>Female</td>\n",
       "      <td>11368010.25</td>\n",
       "    </tr>\n",
       "    <tr>\n",
       "      <th>7</th>\n",
       "      <td>Wales</td>\n",
       "      <td>Male</td>\n",
       "      <td>10674819.01</td>\n",
       "    </tr>\n",
       "  </tbody>\n",
       "</table>\n",
       "</div>"
      ],
      "text/plain": [
       "             Region  Gender      Balance\n",
       "0           England  Female  43627976.64\n",
       "1           England    Male  41205420.36\n",
       "2  Northern Ireland  Female   6086799.50\n",
       "3  Northern Ireland    Male   2248766.89\n",
       "4          Scotland  Female  11900747.68\n",
       "5          Scotland    Male  32509983.04\n",
       "6             Wales  Female  11368010.25\n",
       "7             Wales    Male  10674819.01"
      ]
     },
     "execution_count": 37,
     "metadata": {},
     "output_type": "execute_result"
    }
   ],
   "source": [
    "balance"
   ]
  },
  {
   "cell_type": "markdown",
   "id": "e274cf6c",
   "metadata": {},
   "source": [
    "From the table above, we can see that England has over 84 million. So there is no doubt when the data said that Famous Bank has the highest number of customers coming from England. Let's plot it in a barchat"
   ]
  },
  {
   "cell_type": "code",
   "execution_count": 39,
   "id": "21e4d208",
   "metadata": {},
   "outputs": [
    {
     "data": {
      "image/png": "[encoded data removed]",
      "text/plain": [
       "<Figure size 864x432 with 1 Axes>"
      ]
     },
     "metadata": {
      "needs_background": "light"
     },
     "output_type": "display_data"
    }
   ],
   "source": [
    "sns.barplot(x=\"Region\",y=\"Balance\",hue = 'Gender',data=balance);\n",
    "plt.title('Region vs Count with respect to Gender');"
   ]
  },
  {
   "cell_type": "markdown",
   "id": "040b3589",
   "metadata": {},
   "source": [
    "My observation from the chart above:\n",
    "1. Female customers has the highest balance in England, Northern Ireland and Wales.\n",
    "2. Male customers has the highest balance in Scotland"
   ]
  },
  {
   "cell_type": "code",
   "execution_count": 40,
   "id": "ef37ca2e",
   "metadata": {},
   "outputs": [],
   "source": [
    "bal_age= bank.groupby('Age_range')['Balance'].sum().reset_index()"
   ]
  },
  {
   "cell_type": "code",
   "execution_count": 41,
   "id": "52efdcce",
   "metadata": {},
   "outputs": [
    {
     "data": {
      "image/png": "[encoded data removed]",
      "text/plain": [
       "<Figure size 864x432 with 1 Axes>"
      ]
     },
     "metadata": {
      "needs_background": "light"
     },
     "output_type": "display_data"
    }
   ],
   "source": [
    "ax = sns.barplot(x=\"Age_range\",y=\"Balance\",hue= 'Gender',data=bank);\n",
    "plt.title('Age_range vs Balance with respect to Gender');\n",
    "\n",
    "ax.grid(visible=True, which='major', color='black', linewidth=0.075)\n",
    "ax.grid(visible=True, which='minor', color='black', linewidth=0.075)\n",
    "plt.show()"
   ]
  },
  {
   "cell_type": "markdown",
   "id": "c15cc620",
   "metadata": {},
   "source": [
    "From the chart above, we can see that the age range with the higest balance is in `55-59` followed by `40-44`."
   ]
  },
  {
   "cell_type": "code",
   "execution_count": 42,
   "id": "0549da37",
   "metadata": {},
   "outputs": [
    {
     "data": {
      "image/png": "[encoded data removed]",
      "text/plain": [
       "<Figure size 864x432 with 1 Axes>"
      ]
     },
     "metadata": {
      "needs_background": "light"
     },
     "output_type": "display_data"
    }
   ],
   "source": [
    "ax = sns.barplot(x=\"Age_range\",y=\"Balance\",data=bank);\n",
    "plt.title('Age_range vs Balance');\n",
    "\n",
    "ax.grid(visible=True, which='major', color='black', linewidth=0.075)\n",
    "ax.grid(visible=True, which='minor', color='black', linewidth=0.075)\n",
    "plt.show()"
   ]
  },
  {
   "cell_type": "markdown",
   "id": "a6c8d68e",
   "metadata": {},
   "source": [
    "From above chart we can see that customers falling on age_range `55-59` have more savings in the Bank, followed by `30-34` and `45-49`"
   ]
  },
  {
   "cell_type": "code",
   "execution_count": 44,
   "id": "cecf42ef",
   "metadata": {},
   "outputs": [
    {
     "data": {
      "text/plain": [
       "<AxesSubplot:xlabel='Gender', ylabel='Balance'>"
      ]
     },
     "execution_count": 44,
     "metadata": {},
     "output_type": "execute_result"
    },
    {
     "data": {
      "image/png": "[encoded data removed]",
      "text/plain": [
       "<Figure size 864x432 with 1 Axes>"
      ]
     },
     "metadata": {
      "needs_background": "light"
     },
     "output_type": "display_data"
    }
   ],
   "source": [
    "# let's look at the saving power between both genders\n",
    "sns.barplot(x=\"Gender\",y=\"Balance\",data=bank)"
   ]
  },
  {
   "cell_type": "markdown",
   "id": "25f6314d",
   "metadata": {},
   "source": [
    "From the chart above, we can  say that the male customer have the highest saving power compared to the female customers with a little difference."
   ]
  },
  {
   "cell_type": "code",
   "execution_count": null,
   "id": "592a20d5",
   "metadata": {},
   "outputs": [],
   "source": []
  }
 ],
 "metadata": {
  "kernelspec": {
   "display_name": "Python 3",
   "language": "python",
   "name": "python3"
  },
  "language_info": {
   "codemirror_mode": {
    "name": "ipython",
    "version": 3
   },
   "file_extension": ".py",
   "mimetype": "text/x-python",
   "name": "python",
   "nbconvert_exporter": "python",
   "pygments_lexer": "ipython3",
   "version": "3.7.10"
  }
 },
 "nbformat": 4,
 "nbformat_minor": 5
}
